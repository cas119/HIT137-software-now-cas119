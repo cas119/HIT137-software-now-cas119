{
 "cells": [
  {
   "cell_type": "markdown",
   "id": "1a5a74c2-caaf-4b43-9f69-70adfcd11d00",
   "metadata": {},
   "source": [
    "# Task 1: Extract the text from multiple CSV files"
   ]
  },
  {
   "cell_type": "markdown",
   "id": "49ebb1b0",
   "metadata": {},
   "source": [
    "Name : Sayeed Anwar\n",
    "ID   : s384116\n",
    "Github Link : https://github.com/cas119/HIT137-software-now-cas119"
   ]
  },
  {
   "cell_type": "code",
   "execution_count": 1,
   "id": "142fa3c6-537a-4faf-98cc-40a87f7003db",
   "metadata": {},
   "outputs": [],
   "source": [
    "import pandas as pd\n",
    "import os\n",
    "import zipfile\n",
    "import warnings\n",
    "import re\n",
    "# Suppress all warnings\n",
    "warnings.filterwarnings(\"ignore\")\n",
    "\n",
    "class TextProcessor:\n",
    "    def __init__(self, zip_path, output_directory, output_file, chunk_size=1024*1024):\n",
    "        self.zip_path = zip_path\n",
    "        self.output_directory = output_directory\n",
    "        self.output_file = output_file\n",
    "        self.chunk_size = chunk_size\n",
    "        self.output_path = os.path.join(output_directory, output_file)\n",
    "\n",
    "    @staticmethod\n",
    "    def create_output_directory(directory):\n",
    "        \"\"\"Create the output directory if it does not exist.\"\"\"\n",
    "        os.makedirs(directory, exist_ok=True)\n",
    "\n",
    "    def extract_csv_from_zip(self):\n",
    "        \"\"\"Extract CSV files from the zip archive and return a list of DataFrames.\"\"\"\n",
    "        dfs = []\n",
    "        with zipfile.ZipFile(self.zip_path, 'r') as zip_ref:\n",
    "            for file_info in zip_ref.infolist():\n",
    "                if file_info.filename.endswith('.csv'):\n",
    "                    with zip_ref.open(file_info.filename) as file:\n",
    "                        df = pd.read_csv(file)\n",
    "                        dfs.append(df)\n",
    "        return dfs\n",
    "\n",
    "    @staticmethod\n",
    "    def extract_and_clean_texts(dfs):\n",
    "        \"\"\"Extract and clean texts from a list of DataFrames and return a generator of cleaned texts.\"\"\"\n",
    "        for df in dfs:\n",
    "            if 'TEXT' in df.columns:\n",
    "                for text in df['TEXT'].dropna():\n",
    "                    yield TextProcessor.clean_text(text)\n",
    "\n",
    "    @staticmethod\n",
    "    def clean_text(text):\n",
    "        \"\"\"Clean text by removing non-English characters and extra spaces.\"\"\"\n",
    "        cleaned_text = re.sub(r'[^a-zA-Z\\s]', '', text)\n",
    "        cleaned_text = re.sub(r'\\s+', ' ', cleaned_text)\n",
    "        return cleaned_text.strip()\n",
    "\n",
    "    def process_texts(self):\n",
    "        \"\"\"Process and clean texts from CSV files and save the combined cleaned text.\"\"\"\n",
    "        self.create_output_directory(self.output_directory)\n",
    "        dfs = self.extract_csv_from_zip()\n",
    "        \n",
    "        with open(self.output_path, 'w', encoding='utf-8') as outfile:\n",
    "            for cleaned_text in self.extract_and_clean_texts(dfs):\n",
    "                outfile.write(cleaned_text + '\\n')\n",
    "\n",
    "\n",
    "zip_path = './CSV.zip'\n",
    "output_directory = './output'\n",
    "output_file = 'combined_texts.txt'\n",
    "\n",
    "processor = TextProcessor(zip_path, output_directory, output_file)\n",
    "processor.process_texts()\n"
   ]
  },
  {
   "cell_type": "markdown",
   "id": "f2d4f042-9b34-42df-8599-80d889a8499b",
   "metadata": {},
   "source": [
    "# Task 2: Install the necessary libraries"
   ]
  },
  {
   "cell_type": "code",
   "execution_count": 2,
   "id": "8934d3fe-deaf-4d54-977c-b316ee08f5a1",
   "metadata": {},
   "outputs": [
    {
     "name": "stdout",
     "output_type": "stream",
     "text": [
      "Installing...\n",
      "Done.\n"
     ]
    }
   ],
   "source": [
    "print(\"Installing...\")\n",
    "# !pip install spacy\n",
    "# !pip install scispacy\n",
    "# !pip install https://s3-us-west-2.amazonaws.com/ai2-s2-scispacy/releases/v0.5.0/en_core_sci_sm-0.5.0.tar.gz\n",
    "# !pip install https://s3-us-west-2.amazonaws.com/ai2-s2-scispacy/releases/v0.5.0/en_ner_bc5cdr_md-0.5.0.tar.gz\n",
    "# !pip install transformers\n",
    "print(\"Done.\")"
   ]
  }
 ],
 "metadata": {
  "kernelspec": {
   "display_name": "Python 3 (ipykernel)",
   "language": "python",
   "name": "python3"
  },
  "language_info": {
   "codemirror_mode": {
    "name": "ipython",
    "version": 3
   },
   "file_extension": ".py",
   "mimetype": "text/x-python",
   "name": "python",
   "nbconvert_exporter": "python",
   "pygments_lexer": "ipython3",
   "version": "3.8.19"
  }
 },
 "nbformat": 4,
 "nbformat_minor": 5
}
